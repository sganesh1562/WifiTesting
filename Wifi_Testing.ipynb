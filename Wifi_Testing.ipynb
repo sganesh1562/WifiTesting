{
  "nbformat": 4,
  "nbformat_minor": 0,
  "metadata": {
    "colab": {
      "name": "Wifi_Testing.ipynb",
      "provenance": [],
      "toc_visible": true
    },
    "kernelspec": {
      "name": "python3",
      "display_name": "Python 3"
    },
    "language_info": {
      "name": "python"
    }
  },
  "cells": [
    {
      "cell_type": "code",
      "metadata": {
        "id": "0_M2ju0xKmtR"
      },
      "source": [
        "import json\n",
        "import ssl\n",
        "import sys\n",
        "import time\n",
        "from urllib.parse import urlparse\n",
        "import pytest\n",
        "import requests\n",
        "from pathlib import Path"
      ],
      "execution_count": 2,
      "outputs": []
    },
    {
      "cell_type": "code",
      "metadata": {
        "id": "2tZPF55OKwtp"
      },
      "source": [
        "from requests.adapters import HTTPAdapter\n",
        "import logging"
      ],
      "execution_count": 3,
      "outputs": []
    },
    {
      "cell_type": "code",
      "metadata": {
        "id": "NskGy-BbK1pt"
      },
      "source": [
        "# logging.basicConfig(level=logging.DEBUG)\n",
        "# from http.client import HTTPConnection\n",
        "#\n",
        "# HTTPConnection.debuglevel = 1\n",
        "# requests.logging.getLogger()"
      ],
      "execution_count": 4,
      "outputs": []
    },
    {
      "cell_type": "code",
      "metadata": {
        "id": "tKQvCV3QK8He"
      },
      "source": [
        "def __init__(self, controller_data):\n",
        "        self.username = controller_data[\"username\"]\n",
        "        self.password = controller_data[\"password\"]\n",
        "        self.host = urlparse(controller_data[\"url\"])\n",
        "        print(self.host)"
      ],
      "execution_count": 11,
      "outputs": []
    },
    {
      "cell_type": "code",
      "metadata": {
        "id": "5tzkC_7ZLvmn"
      },
      "source": [
        "def build_uri_sec(self, path):\n",
        "        new_uri = 'https://%s:%d/api/v1/%s' % (self.host.hostname, self.host.port, path)"
      ],
      "execution_count": 18,
      "outputs": []
    },
    {
      "cell_type": "code",
      "metadata": {
        "id": "ajO8q0JjMDW1"
      },
      "source": [
        "def request(self, service, command, method, params, payload):\n",
        "        if service == \"sec\":\n",
        "            uri = self.build_uri_sec(command)\n",
        "        elif service == \"gw\":\n",
        "            uri = self.build_uri(command)\n",
        "        elif service == \"fms\":\n",
        "            uri = self.build_url_fms(command)\n",
        "        else:\n",
        "            raise NameError(\"Invalid service code for request.\")"
      ],
      "execution_count": 19,
      "outputs": []
    },
    {
      "cell_type": "code",
      "metadata": {
        "id": "lQKhZXq-Ml8N"
      },
      "source": [
        "def login(self):\n",
        "        uri = self.build_uri_sec(\"oauth2\")\n",
        "        # self.session.mount(uri, HTTPAdapter(max_retries=15))"
      ],
      "execution_count": 28,
      "outputs": []
    }
  ]
}